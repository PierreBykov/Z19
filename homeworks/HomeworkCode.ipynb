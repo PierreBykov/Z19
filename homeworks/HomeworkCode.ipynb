{
 "cells": [
  {
   "cell_type": "code",
   "execution_count": null,
   "metadata": {},
   "outputs": [],
   "source": [
    "print('Hello World')"
   ]
  },
  {
   "cell_type": "code",
   "execution_count": null,
   "metadata": {},
   "outputs": [],
   "source": [
    "name = 'Peter,'\n",
    "old = '25,'\n",
    "city = 'Minsk.'\n",
    "print(name, old, city)"
   ]
  },
  {
   "cell_type": "code",
   "execution_count": null,
   "metadata": {},
   "outputs": [],
   "source": [
    " import platform\n",
    "    platform.uname()"
   ]
  },
  {
   "cell_type": "code",
   "execution_count": null,
   "metadata": {},
   "outputs": [],
   "source": [
    "name = input('Ваше имя?')\n",
    "print ('Привет,',name)"
   ]
  },
  {
   "cell_type": "code",
   "execution_count": null,
   "metadata": {},
   "outputs": [],
   "source": [
    "answer = input(\"Хочешь сыграть в игру?\\n\")\n",
    "ACCESS = \"Да\", \"да\"\n",
    "\n",
    "while answer in ACCESS:\n",
    "    game = int(input(\"Загадай число от 1 до 5\\n\"))\n",
    "    if game in range(1, 6):\n",
    "        if game != 3:\n",
    "            print(\"Ты проиграл!\")\n",
    "        elif game == 3:\n",
    "            print(\"Ты выиграл\")\n",
    "            answer = \"\"\n",
    "    else:\n",
    "        print(\"Ты не понял. Перечитай условие.\\n\")"
   ]
  }
 ],
 "metadata": {
  "kernelspec": {
   "display_name": "Python 3",
   "language": "python",
   "name": "python3"
  },
  "language_info": {
   "codemirror_mode": {
    "name": "ipython",
    "version": 3
   },
   "file_extension": ".py",
   "mimetype": "text/x-python",
   "name": "python",
   "nbconvert_exporter": "python",
   "pygments_lexer": "ipython3",
   "version": "3.7.3"
  }
 },
 "nbformat": 4,
 "nbformat_minor": 2
}
